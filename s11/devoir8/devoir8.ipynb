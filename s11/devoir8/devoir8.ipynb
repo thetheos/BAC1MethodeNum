{
 "cells": [
  {
   "cell_type": "code",
   "execution_count": 75,
   "metadata": {},
   "outputs": [
    {
     "name": "stdout",
     "output_type": "stream",
     "text": [
      " ========= my Newton-Raphson scheme with your proposed step :-)\n",
      "(' Estimated error  2.65e-01 at iteration 1 : ', array([0.87997904, 1.73598008]))\n",
      "(' Estimated error  2.48e-02 at iteration 2 : ', array([0.85723809, 1.74589495]))\n",
      "(' Estimated error  1.82e-04 at iteration 3 : ', array([0.85721271, 1.74607507]))\n",
      "(' Estimated error  2.14e-08 at iteration 4 : ', array([0.85721269, 1.74607506]))\n",
      "(' Estimated error  4.58e-16 at iteration 5 : ', array([0.85721269, 1.74607506]))\n",
      " Computed distance is :      2.603288 \n",
      " ========= your full computation :-)\n",
      "(' Estimated error  2.61e+00 at iteration 1 : ', array([1.75, 3.5 ]))\n",
      "(' Estimated error  8.42e-01 at iteration 2 : ', array([1.38068976, 2.74339944]))\n",
      "(' Estimated error  5.83e-01 at iteration 3 : ', array([1.15426979, 2.20643741]))\n",
      "(' Estimated error  3.60e-01 at iteration 4 : ', array([0.88280674, 1.96925834]))\n",
      "(' Estimated error  1.97e-01 at iteration 5 : ', array([0.88400047, 1.77223857]))\n",
      "(' Estimated error  3.60e-02 at iteration 6 : ', array([0.85775583, 1.74766165]))\n",
      "(' Estimated error  1.67e-03 at iteration 7 : ', array([0.85721434, 1.74607801]))\n",
      "(' Estimated error  3.38e-06 at iteration 8 : ', array([0.85721269, 1.74607506]))\n",
      "(' Estimated error  1.49e-11 at iteration 9 : ', array([0.85721269, 1.74607506]))\n",
      "(' Estimated error  3.14e-16 at iteration 10 : ', array([0.85721269, 1.74607506]))\n",
      " Computed distance is :      2.603288 \n"
     ]
    },
    {
     "data": {
      "image/png": "[encoded data removed]",
      "text/plain": [
       "<Figure size 432x288 with 1 Axes>"
      ]
     },
     "metadata": {},
     "output_type": "display_data"
    }
   ],
   "source": [
    "import matplotlib.pyplot as plt\n",
    "import matplotlib\n",
    "from numpy import *\n",
    "from scipy.linalg import norm\n",
    "from scipy.linalg import solve\n",
    "\n",
    "def laddersIterate(geometry, v):\n",
    "    a= geometry[0]; b = geometry[1]; c = geometry[2]; y = v[1]; x = v[0]\n",
    "    f1 = a**2 * x**2 - (x**2 + c**2)*(x+y)**2\n",
    "    f2 = b**2 * y**2 - (y**2 + c**2)*(x+y)**2\n",
    "    df1dx = 2*a**2*x - 2*(x+y)*(x**2 + c**2) - 2*x*(x+y)**2\n",
    "    df1dy = -2*(x+y)*(x**2 + c**2)\n",
    "    df2dx = -2*(y**2 + c**2)*(x+y)\n",
    "    df2dy = 2* b**2 *y -2*(x+y)*(y**2 +c**2) - 2 * y* (x+y)**2\n",
    "    jacc_matrix = [[df1dx, df1dy], [df2dx, df2dy]]\n",
    "    b = [f1,f2]\n",
    "    dx = solve(jacc_matrix, b)\n",
    "    v =  v - dx \n",
    "    return v\n",
    "    \n",
    "def laddersSolve(geometry,tol,nmax):\n",
    "    a= geometry[0]; b = geometry[1]; c = geometry[2]\n",
    "    if a==b and c ==b:\n",
    "        return [-1,-1]\n",
    "    delta = tol+1\n",
    "    n = 0\n",
    "    x = [(b-c)/2,(a-c)/2]\n",
    "    while (norm(delta) > tol and n < nmax):\n",
    "        xold = x\n",
    "        x = laddersIterate(geometry,xold)\n",
    "        delta = x-xold; n = n+1\n",
    "        print(\" Estimated error %9.2e at iteration %d : \" % (norm(delta),n),x)\n",
    "    return x\n",
    "\n",
    " \n",
    "geometry = [4,3,1]\n",
    "print(\" ========= my Newton-Raphson scheme with your proposed step :-)\")\n",
    " \n",
    "x = array([1.0,1.5]); tol = 10e-12; nmax = 50\n",
    "n = 0; delta = tol+1\n",
    "while (norm(delta) > tol and n < nmax):\n",
    "    xold = x\n",
    "    x = laddersIterate(geometry,xold)\n",
    "    delta = x-xold; n = n+1\n",
    "    print(\" Estimated error %9.2e at iteration %d : \" % (norm(delta),n),x)\n",
    "print(\" Computed distance is : %13.6f \" % sum(x))\n",
    " \n",
    " \n",
    "print(\" ========= your full computation :-)\")\n",
    "sol = laddersSolve(geometry,1e-14,50)\n",
    "print(\" Computed distance is : %13.6f \" % sum(sol))\n",
    " \n",
    "a = geometry[0]\n",
    "b = geometry[1]\n",
    "c = geometry[2]\n",
    "ab = max(a,b)\n",
    " \n",
    "#\n",
    "# -2- Et un joli dessin\n",
    "#\n",
    " \n",
    "\n",
    "matplotlib.rcParams['toolbar'] = 'None'\n",
    "plt.rcParams['figure.facecolor'] = 'silver'\n",
    " \n",
    "plt.figure(\"Ladders geometry\")\n",
    "x = sol[0]; y = sol[1]; d = x + y\n",
    "hx = sqrt(b*b - d*d); hy = sqrt(a*a - d*d)\n",
    "plt.plot([-x,y],[hx,0],'-r')\n",
    "plt.plot([-x,y],[0,hy],'-b')\n",
    "plt.plot([-x,-x,y,y],[ab,0,0,ab],'k')\n",
    "plt.axis('equal')\n",
    "ax = plt.gca()\n",
    "ax.yaxis.grid(color='gray',linestyle='dashed')\n",
    "ax.xaxis.grid(color='gray',linestyle='dashed')\n",
    "plt.xticks(arange(-ab,ab+1,1))\n",
    "plt.yticks(arange(0,ab+1,1))\n",
    "plt.show()"
   ]
  }
 ],
 "metadata": {
  "kernelspec": {
   "display_name": "Python 3",
   "language": "python",
   "name": "python3"
  },
  "language_info": {
   "codemirror_mode": {
    "name": "ipython",
    "version": 2
   },
   "file_extension": ".py",
   "mimetype": "text/x-python",
   "name": "python",
   "nbconvert_exporter": "python",
   "pygments_lexer": "ipython2",
   "version": "2.7.15rc1"
  }
 },
 "nbformat": 4,
 "nbformat_minor": 2
}
