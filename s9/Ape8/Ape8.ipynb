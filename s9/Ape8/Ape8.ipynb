{
 "cells": [
  {
   "cell_type": "code",
   "execution_count": null,
   "metadata": {},
   "outputs": [],
   "source": []
  },
  {
   "cell_type": "markdown",
   "metadata": {},
   "source": [
    "## This is a sample of write with my ipad\n",
    "\n",
    "1. Firs atempt\n",
    "2. Second Atempt\n",
    "\n",
    "3. I will try to test the ipad as an easy second display\n"
   ]
  },
  {
   "cell_type": "code",
   "execution_count": 4,
   "metadata": {},
   "outputs": [
    {
     "name": "stdout",
     "output_type": "stream",
     "text": [
      "Hello world\n"
     ]
    }
   ],
   "source": [
    "\n",
    "print(\"Hello world\")"
   ]
  },
  {
   "cell_type": "markdown",
   "metadata": {},
   "source": [
    "# After several trials...\n",
    "### Results\n",
    "1. I could finally write straight quotes and doubles quotes after disabling the \"Smart ponctuations\" in the keyboard settings\n",
    "2. This seems promising after this annoying point solved.\n",
    "3. My next goal is to use this ipad with teamviewer as a portable second screen.\n",
    "4. Hope it will work as expected and fast.\n",
    "5. An other disturbing point is that the alt-tab shortcut doesn't work. It only switch between the Ipad app."
   ]
  },
  {
   "cell_type": "code",
   "execution_count": 10,
   "metadata": {},
   "outputs": [
    {
     "name": "stdout",
     "output_type": "stream",
     "text": [
      "[[ 1.00000000e+00  0.00000000e+00]\n",
      " [ 8.12500000e-01 -5.62500000e-01]\n",
      " [ 6.07421875e-01 -6.50390625e-01]\n",
      " [ 4.32556152e-01 -5.65246582e-01]\n",
      " [ 2.98460007e-01 -4.37616348e-01]\n",
      " [ 2.01472223e-01 -3.18314373e-01]\n",
      " [ 1.33854209e-01 -2.22748691e-01]\n",
      " [ 8.78738546e-02 -1.51862855e-01]\n",
      " [ 5.71603642e-02 -1.01631900e-01]\n",
      " [ 3.69148053e-02 -6.70886704e-02]\n",
      " [ 2.37037165e-02 -4.38263084e-02]\n",
      " [ 1.51505532e-02 -2.83986341e-02]\n",
      " [ 9.64745256e-03 -1.82842167e-02]\n",
      " [ 6.12440990e-03 -1.17118915e-02]\n",
      " [ 3.87809321e-03 -7.47094328e-03]\n",
      " [ 2.45054980e-03 -4.74956418e-03]\n",
      " [ 1.54580007e-03 -3.01109695e-03]\n",
      " [ 9.73672218e-04 -1.90457712e-03]\n",
      " [ 6.12554572e-04 -1.20238901e-03]\n",
      " [ 3.84976621e-04 -7.57883168e-04]\n",
      " [ 2.41741957e-04 -4.77071688e-04]]\n",
      "[[ 1.00000000e+00  0.00000000e+00]\n",
      " [ 9.53125000e-01 -5.15625000e-01]\n",
      " [ 8.64135742e-01 -7.61352539e-01]\n",
      " [ 7.58200645e-01 -8.44090462e-01]\n",
      " [ 6.50120966e-01 -8.32775809e-01]\n",
      " [ 5.48079875e-01 -7.71124711e-01]\n",
      " [ 4.56120101e-01 -6.86239276e-01]\n",
      " [ 3.75765783e-01 -5.94390298e-01]\n",
      " [ 3.07071346e-01 -5.04880404e-01]\n",
      " [ 2.49289217e-01 -4.22606999e-01]\n",
      " [ 2.01285996e-01 -3.49748104e-01]\n",
      " [ 1.61794237e-01 -2.86859365e-01]\n",
      " [ 1.29558156e-01 -2.33578102e-01]\n",
      " [ 1.03411999e-01 -1.89066962e-01]\n",
      " [ 8.23166195e-02 -1.52286550e-01]\n",
      " [ 6.53709026e-02 -1.22156998e-01]\n",
      " [ 5.18087745e-02 -9.76484252e-02]\n",
      " [ 4.09885767e-02 -7.78267469e-02]\n",
      " [ 3.23790011e-02 -6.18721727e-02]\n",
      " [ 2.55440956e-02 -4.90816378e-02]\n",
      " [ 2.01287628e-02 -3.88623441e-02]\n",
      " [ 1.58454944e-02 -3.07209016e-02]\n",
      " [ 1.24626593e-02 -2.42508049e-02]\n",
      " [ 9.79441864e-03 -1.91198394e-02]\n",
      " [ 7.69219407e-03 -1.50582881e-02]\n",
      " [ 6.03755084e-03 -1.18483602e-02]\n",
      " [ 4.73632219e-03 -9.31498821e-03]\n",
      " [ 3.71380028e-03 -7.31798027e-03]\n",
      " [ 2.91082697e-03 -5.74543357e-03]\n",
      " [ 2.28063376e-03 -4.50827054e-03]\n",
      " [ 1.78629955e-03 -3.53574964e-03]\n",
      " [ 1.39871327e-03 -2.77180466e-03]\n",
      " [ 1.09494663e-03 -2.17207803e-03]\n",
      " [ 8.56958047e-04 -1.70152895e-03]\n",
      " [ 6.70562994e-04 -1.33251305e-03]\n",
      " [ 5.24617514e-04 -1.04324634e-03]\n",
      " [ 4.10372085e-04 -8.16580164e-04]\n",
      " [ 3.20961036e-04 -6.39026786e-04]\n",
      " [ 2.50999623e-04 -4.99986117e-04]\n",
      " [ 1.96266458e-04 -3.91133164e-04]\n",
      " [ 1.53453462e-04 -3.05933658e-04]]\n"
     ]
    },
    {
     "data": {
      "image/png": "[encoded data removed]",
      "text/plain": [
       "<Figure size 432x288 with 1 Axes>"
      ]
     },
     "metadata": {
      "needs_background": "light"
     },
     "output_type": "display_data"
    }
   ],
   "source": [
    "from numpy import *\n",
    "from matplotlib import pyplot as plt\n",
    "\n",
    "def f(x,u):\n",
    "    C = 5.0; k = 6\n",
    "    dudx = u[1]\n",
    "    dvdx = - C*u[1] - k*u[0]\n",
    "    return array([dudx, dvdx])\n",
    "\n",
    "Xstart = 0; Xend = 5;\n",
    "Ustart = [1,0]\n",
    "\n",
    "x = linspace(0,5,100)\n",
    "u = 3.0*exp(-2*x) - 2*exp(-3*x)\n",
    "v = -6.0*exp(-2*x) + 6*exp(-3*x)\n",
    "plt.plot(x,u,'-k',x,v,'-k')\n",
    "\n",
    "for n in [20,40]:\n",
    "    X = linspace(Xstart,Xend,n+1)\n",
    "    U = zeros((n+1,2)); U[0] = Ustart\n",
    "    h = (Xend - Xstart)/n\n",
    "    for i in range(n):\n",
    "        P = U[i,:] + h*f(X[i],U[i,:])\n",
    "        U[i+1,:] = U[i,:] + h*(f(X[i],U[i,:]) + f(X[i+1],P))/2\n",
    "    print(U)\n",
    "    plt.plot(X, U[:,0],'.-r',X, U[:,1], '.-r',markersize='5.0')"
   ]
  },
  {
   "cell_type": "code",
   "execution_count": 40,
   "metadata": {},
   "outputs": [
    {
     "name": "stdout",
     "output_type": "stream",
     "text": [
      "0.047720013071834516\n"
     ]
    }
   ],
   "source": [
    "from numpy import *\n",
    "import matplotlib as plt\n",
    "\n",
    "def euleur_expl(f,x,a,n):\n",
    "    h = (x-a)/n\n",
    "    i = arange(a, x, h)\n",
    "    U = zeros(len(i)+1); U[0] = 0.05\n",
    "    for pos, j in enumerate(i):\n",
    "        U[pos + 1] = U[pos] + h * f(j,U[pos])\n",
    "    return U[-1]\n",
    "\n",
    "def euler_impl()\n",
    "\n",
    "def f(X,U):\n",
    "    return -10*(X-1)*U\n",
    "\n",
    "print(euleur_expl(f,2,0,1000))"
   ]
  },
  {
   "cell_type": "code",
   "execution_count": null,
   "metadata": {},
   "outputs": [],
   "source": []
  },
  {
   "cell_type": "code",
   "execution_count": null,
   "metadata": {},
   "outputs": [],
   "source": []
  }
 ],
 "metadata": {
  "kernelspec": {
   "display_name": "Python 3",
   "language": "python",
   "name": "python3"
  },
  "language_info": {
   "codemirror_mode": {
    "name": "ipython",
    "version": 3
   },
   "file_extension": ".py",
   "mimetype": "text/x-python",
   "name": "python",
   "nbconvert_exporter": "python",
   "pygments_lexer": "ipython3",
   "version": "3.7.1"
  }
 },
 "nbformat": 4,
 "nbformat_minor": 2
}
