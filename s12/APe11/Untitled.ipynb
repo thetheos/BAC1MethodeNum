{
 "cells": [
  {
   "cell_type": "markdown",
   "metadata": {},
   "source": [
    "## 75"
   ]
  },
  {
   "cell_type": "code",
   "execution_count": 6,
   "metadata": {},
   "outputs": [
    {
     "data": {
      "text/plain": [
       "array([[0. , 0. , 0. , 0. ],\n",
       "       [0. , 0.5, 0.5, 0. ],\n",
       "       [0. , 0.5, 0.5, 0. ],\n",
       "       [0. , 0. , 0. , 0. ]])"
      ]
     },
     "execution_count": 6,
     "metadata": {},
     "output_type": "execute_result"
    }
   ],
   "source": [
    "from numpy import *\n",
    "from numpy.linalg import solve\n",
    "\n",
    "\n",
    "def poissonSolve(nx,ny):\n",
    "    n = nx*ny; h = 2/(ny-1) #ny-1 car il y a n points mais n-1 interval\n",
    "    A = eye(n); B = zeros(n) #Eye permet de creer une matrice carrée avec des 1 sur la diagonale, de dimension 1\n",
    "    for i in range(1,nx-1): #de 1 à nx-1 car on ne prend pas les bords du domaine\n",
    "        for j in range(1,ny-1):\n",
    "            index = i + j*nx #Indexification du tableau\n",
    "            A[index,index] = 4.0\n",
    "            A[index,index-1] = -1.0\n",
    "            A[index,index+1] = -1.0\n",
    "            A[index,index-nx] = -1.0\n",
    "            A[index,index+nx] = -1.0\n",
    "            B[index] = 1\n",
    "    return solve(A,B).reshape(ny,nx) #Le solve(A,B) retourne un vecteur, la méthode reshape permet de reconstruire la matrice de noeud nx*ny\n",
    "\n",
    "poissonSolve(4,4)"
   ]
  },
  {
   "cell_type": "markdown",
   "metadata": {},
   "source": [
    "## 76"
   ]
  },
  {
   "cell_type": "code",
   "execution_count": null,
   "metadata": {},
   "outputs": [],
   "source": [
    "from numpy import *\n"
   ]
  }
 ],
 "metadata": {
  "kernelspec": {
   "display_name": "Python 3",
   "language": "python",
   "name": "python3"
  },
  "language_info": {
   "codemirror_mode": {
    "name": "ipython",
    "version": 2
   },
   "file_extension": ".py",
   "mimetype": "text/x-python",
   "name": "python",
   "nbconvert_exporter": "python",
   "pygments_lexer": "ipython2",
   "version": "2.7.15rc1"
  }
 },
 "nbformat": 4,
 "nbformat_minor": 2
}
