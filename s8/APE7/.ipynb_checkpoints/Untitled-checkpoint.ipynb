{
 "cells": [
  {
   "cell_type": "code",
   "execution_count": 17,
   "metadata": {},
   "outputs": [
    {
     "name": "stdout",
     "output_type": "stream",
     "text": [
      "0.6903774262512317\n",
      "0.6903774262512317\n"
     ]
    }
   ],
   "source": [
    "from numpy import *\n",
    "\n",
    "def euler_implicit(n):\n",
    "    i = linspace(0,1,n+1)\n",
    "    \n",
    "    h = 1/(n-1)\n",
    "    U = zeros(n+1)\n",
    "    U[0] = 0\n",
    "    for j in range(n):\n",
    "        U[j+1] = (U[j] + h* sin(i[j+1]) )/(1-h)\n",
    "        \n",
    "    return U[-1]\n",
    "\n",
    "\n",
    "def euleur_explicit(n):\n",
    "    i = linspace(0,1, n+1)\n",
    "    h = 1/(n-1)\n",
    "    print(h)\n",
    "    U = zeros(n+1)\n",
    "    U[0] = 0\n",
    "    for j in range(n):\n",
    "        U[j+1] = U[j] + h *( sin( i[j]) + U[j] )\n",
    "\n",
    "print(euler_implicit(100)) \n",
    "print(euler_explicit(100))\n"
   ]
  }
 ],
 "metadata": {
  "kernelspec": {
   "display_name": "Python 3",
   "language": "python",
   "name": "python3"
  },
  "language_info": {
   "codemirror_mode": {
    "name": "ipython",
    "version": 3
   },
   "file_extension": ".py",
   "mimetype": "text/x-python",
   "name": "python",
   "nbconvert_exporter": "python",
   "pygments_lexer": "ipython3",
   "version": "3.7.1"
  }
 },
 "nbformat": 4,
 "nbformat_minor": 2
}
