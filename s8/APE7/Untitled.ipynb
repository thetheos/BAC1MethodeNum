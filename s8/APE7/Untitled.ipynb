{
 "cells": [
  {
   "cell_type": "code",
   "execution_count": 23,
   "metadata": {},
   "outputs": [
    {
     "name": "stdout",
     "output_type": "stream",
     "text": [
      "0.6682542688915044\n",
      "0.680604091700935\n",
      "0.6670312838449693\n",
      "ratio Erreur impl 1.012942045196699\n",
      "ratio Erreur expl 0.9874470219771568\n",
      "Its around 2 pow 1 Nice!\n"
     ]
    }
   ],
   "source": [
    "from numpy import *\n",
    "\n",
    "def euler_implicit(h):\n",
    "    n = int(1/h) \n",
    "    i = linspace(0,1,n+1)  \n",
    "    U = zeros(n+1)\n",
    "    U[0] = 0\n",
    "    for j in range(n):\n",
    "        U[j+1] = (U[j] + h* sin(i[j+1]) )/(1-h)\n",
    "        \n",
    "    return U[-1]\n",
    "\n",
    "def euleur_explicit(h):\n",
    "    n = int(1/h) \n",
    "    i = linspace(0,1, n+1)\n",
    "    U = zeros(n+1)\n",
    "    U[0] = 0\n",
    "    for j in range(n):\n",
    "        U[j+1] = U[j] + h *( sin( i[j]) + U[j] )\n",
    "    return U[-1]\n",
    "\n",
    "def u(x):\n",
    "    return 1/2 * exp(x) - 1/2 * sin(x) -1/2 * cos(x)\n",
    "\n",
    "print(u(1))\n",
    "print(euler_implicit(0.01)) \n",
    "implh = euler_implicit(0.01)\n",
    "impl2h = euler_implicit(0.02)\n",
    "\n",
    "print(euleur_explicit(0.001))\n",
    "explh = euleur_explicit(0.01)\n",
    "expl2h = euleur_explicit(0.02)\n",
    "\n",
    "eh_impl = abs(u(1) - implh)\n",
    "e2h_impl = abs(u(1) - impl2h)\n",
    "\n",
    "eh_expl = abs(u(1) - explh)\n",
    "e2h_expl = abs(u(1) - expl2h)\n",
    "\n",
    "print(\"ratio Erreur impl {}\".format(log2(e2h_impl/eh_impl)))\n",
    "      \n",
    "print(\"ratio Erreur expl {}\".format(log2(e2h_expl/eh_expl)))\n",
    "      \n",
    "print(\"Its around 2 pow 1 Nice!\")"
   ]
  }
 ],
 "metadata": {
  "kernelspec": {
   "display_name": "Python 3",
   "language": "python",
   "name": "python3"
  },
  "language_info": {
   "codemirror_mode": {
    "name": "ipython",
    "version": 3
   },
   "file_extension": ".py",
   "mimetype": "text/x-python",
   "name": "python",
   "nbconvert_exporter": "python",
   "pygments_lexer": "ipython3",
   "version": "3.7.1"
  }
 },
 "nbformat": 4,
 "nbformat_minor": 2
}
