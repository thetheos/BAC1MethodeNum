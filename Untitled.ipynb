{
 "cells": [
  {
   "cell_type": "code",
   "execution_count": 5,
   "metadata": {},
   "outputs": [
    {
     "name": "stdout",
     "output_type": "stream",
     "text": [
      "0.668254269177191\n"
     ]
    }
   ],
   "source": [
    "from numpy import *\n",
    "def f(x,u):\n",
    "    return sin(x) + u\n",
    "def euler_expl(u,x,h,f):\n",
    "    return u + h * f(x,u)\n",
    "\n",
    "i = linspace(0,1,1000000000)\n",
    "h = i[1]-i[0]\n",
    "U0 = 0\n",
    "\n",
    "for elm in i:\n",
    "    U0 = euler_expl(U0,elm,h,f)\n",
    "\n",
    "print(U0)"
   ]
  }
 ],
 "metadata": {
  "kernelspec": {
   "display_name": "Python 3",
   "language": "python",
   "name": "python3"
  },
  "language_info": {
   "codemirror_mode": {
    "name": "ipython",
    "version": 2
   },
   "file_extension": ".py",
   "mimetype": "text/x-python",
   "name": "python",
   "nbconvert_exporter": "python",
   "pygments_lexer": "ipython2",
   "version": "2.7.15rc1"
  }
 },
 "nbformat": 4,
 "nbformat_minor": 2
}
