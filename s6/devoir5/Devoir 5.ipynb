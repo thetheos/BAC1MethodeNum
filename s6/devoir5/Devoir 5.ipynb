{
 "cells": [
  {
   "cell_type": "code",
   "execution_count": null,
   "metadata": {},
   "outputs": [],
   "source": [
    "from numpy import *\n",
    "import matplotlib.pyplot as plt\n",
    "\n",
    "def trapezeEasy(f,a,b,n):\n",
    "    i = linspace(a,b,n)\n",
    "    U = f(i)\n",
    "    h = i[2] - i[1]\n",
    "    I = h/(2*n) * (U[0] + U[-1] + 2 * sum(U[1:-1]))\n",
    "    return I\n",
    "\n",
    "def romberg(f,a,b,n,nmax,tol):\n",
    "    I_ar = []\n",
    "    I_ar.append(trapezeEasy(f,a,b,1*n)) \n",
    "    I_ar.append(trapezeEasy(f,a,b,2*n))\n",
    "    \n",
    "    return I,n,errorEst\n",
    "    \n",
    "    \n",
    "    \n",
    "    \n",
    "def u(x):\n",
    "    return (x*x+x+1)*cos(x)\n",
    "  \n",
    "a = 0\n",
    "b = pi/2\n",
    "n = 1\n",
    " \n",
    " \n",
    "I,n,errorEst = romberg(u,a,b,n,100,1e-8)\n",
    "errorExact = abs(2.03819742706724 - I)\n",
    "print(\"\\n ======= Integral of (x*x+x+1)*cos(x) between 0 and pi/2 = %21.14e \" % I)\n",
    "print(\"  True error = %14.7e\" % errorExact)\n",
    "print(\"  Est. error = %14.7e\" % errorEst)\n",
    "print(\"  Number of intervals = %d\" % n)\n",
    " \n",
    " \n",
    " \n",
    "plt.figure(\"Mastering the trapezoids integration rule :-)\")\n",
    "x = array([a,b])\n",
    "plt.plot(x,u(x),'.k',markersize=5) \n",
    "x = linspace(a,b,200)\n",
    "plt.fill(append(x,[0]),append(u(x),[0]),'xkcd:sky blue')\n",
    "x = linspace(-0.5,2.0,300)\n",
    "plt.plot(x,u(x),'-k')\n",
    "plt.title('Integrating (x*x+x+1)*cos(x) between 0 and pi/2')\n",
    "plt.gca().axhline(y=0,color='k',linewidth=1.0)\n",
    "plt.text(0.1,0.1,\"I = %8.6f\" % I,fontsize=12)\n",
    "plt.show()"
   ]
  }
 ],
 "metadata": {
  "kernelspec": {
   "display_name": "Python 3",
   "language": "python",
   "name": "python3"
  },
  "language_info": {
   "codemirror_mode": {
    "name": "ipython",
    "version": 3
   },
   "file_extension": ".py",
   "mimetype": "text/x-python",
   "name": "python",
   "nbconvert_exporter": "python",
   "pygments_lexer": "ipython3",
   "version": "3.7.2"
  }
 },
 "nbformat": 4,
 "nbformat_minor": 2
}
