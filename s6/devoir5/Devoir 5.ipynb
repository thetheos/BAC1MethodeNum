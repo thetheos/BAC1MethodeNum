{
 "cells": [
  {
   "cell_type": "code",
   "execution_count": 25,
   "metadata": {},
   "outputs": [
    {
     "name": "stdout",
     "output_type": "stream",
     "text": [
      "0.7853981633974485\n",
      "[[0.7853981633974485]]\n",
      "[0.7853981633974485]\n",
      "[1.7268126567582365, 2.040617487878499]\n",
      "[1.9605341665638947, 2.038441336499114, 2.0382962597404886]\n",
      "[2.0187939480778536, 2.0382138752491734, 2.038198711165844, 2.03819716277577]\n",
      "[2.033347341805016, 2.0381984730474034, 2.0381974462339523, 2.0381974261556683, 2.0381974271885306]\n",
      "\n",
      " ======= Integral of (x*x+x+1)*cos(x) between 0 and pi/2 =  2.03819742718853e+00 \n",
      "  True error =  1.2129053e-10\n",
      "  Est. error =  1.0328622e-09\n",
      "  Number of intervals = 32\n"
     ]
    },
    {
     "data": {
      "image/png": "[encoded data removed]",
      "text/plain": [
       "<Figure size 432x288 with 1 Axes>"
      ]
     },
     "metadata": {
      "needs_background": "light"
     },
     "output_type": "display_data"
    }
   ],
   "source": [
    "from numpy import *\n",
    "import matplotlib.pyplot as plt\n",
    "\n",
    "def trapezeEasy(f,a,b,n):\n",
    "    i = linspace(a,b,n+1)\n",
    "    U = f(i)\n",
    "    h = (b - a)/(n)\n",
    "    I = h * (U[0]/2 + U[-1]/2 +  sum(U[1:-1]))\n",
    "    return I\n",
    "\n",
    "def richard(I0 , I1 , j ):\n",
    "    A = 2**(2*j)\n",
    "    return (A*I1 - I0)/(A-1)\n",
    "\n",
    "def romberg(f,a,b,n,nmax,tol):\n",
    "    matrix = [[trapezeEasy(f,a,b,n)]]\n",
    "    print(trapezeEasy(f,a,b,n))\n",
    "    print(matrix)\n",
    "    \n",
    "    error = 1  #matrix[1][0] - matrix[0][0]\n",
    "    \n",
    "    i = 1\n",
    "    n = n * 2\n",
    "    \n",
    "    while error > tol and n<nmax:\n",
    "        matrix.append([])\n",
    "        matrix[i].append(trapezeEasy(f,a,b,n))\n",
    "        for it in range(1,i+1):\n",
    "            matrix[i].append(richard(matrix[i-1][it-1], matrix[i][it-1],it))\n",
    "        \n",
    "        error = abs(matrix[i][-1] - matrix[i][-2])\n",
    "        \n",
    "        n = n*2\n",
    "        i += 1\n",
    "    for elm in matrix:\n",
    "        print(elm)\n",
    "    I = matrix[i-1][-1]\n",
    "    return I,n,error\n",
    "    \n",
    "    \n",
    "    \n",
    "    \n",
    "def u(x):\n",
    "    return (x*x+x+1)*cos(x)\n",
    "  \n",
    "a = 0\n",
    "b = pi/2\n",
    "n = 1\n",
    " \n",
    " \n",
    "I,n,errorEst = romberg(u,a,b,n,100,1e-8)\n",
    "errorExact = abs(2.03819742706724 - I)\n",
    "print(\"\\n ======= Integral of (x*x+x+1)*cos(x) between 0 and pi/2 = %21.14e \" % I)\n",
    "print(\"  True error = %14.7e\" % errorExact)\n",
    "print(\"  Est. error = %14.7e\" % errorEst)\n",
    "print(\"  Number of intervals = %d\" % n)\n",
    " \n",
    " \n",
    " \n",
    "plt.figure(\"Mastering the trapezoids integration rule :-)\")\n",
    "x = array([a,b])\n",
    "plt.plot(x,u(x),'.k',markersize=5) \n",
    "x = linspace(a,b,200)\n",
    "plt.fill(append(x,[0]),append(u(x),[0]),'xkcd:sky blue')\n",
    "x = linspace(-0.5,2.0,300)\n",
    "plt.plot(x,u(x),'-k')\n",
    "plt.title('Integrating (x*x+x+1)*cos(x) between 0 and pi/2')\n",
    "plt.gca().axhline(y=0,color='k',linewidth=1.0)\n",
    "plt.text(0.1,0.1,\"I = %8.6f\" % I,fontsize=12)\n",
    "plt.show()"
   ]
  },
  {
   "cell_type": "code",
   "execution_count": null,
   "metadata": {},
   "outputs": [],
   "source": []
  }
 ],
 "metadata": {
  "kernelspec": {
   "display_name": "Python 3",
   "language": "python",
   "name": "python3"
  },
  "language_info": {
   "codemirror_mode": {
    "name": "ipython",
    "version": 3
   },
   "file_extension": ".py",
   "mimetype": "text/x-python",
   "name": "python",
   "nbconvert_exporter": "python",
   "pygments_lexer": "ipython3",
   "version": "3.7.2"
  }
 },
 "nbformat": 4,
 "nbformat_minor": 2
}
