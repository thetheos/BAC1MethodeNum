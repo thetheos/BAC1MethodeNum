{
 "cells": [
  {
   "cell_type": "code",
   "execution_count": null,
   "metadata": {},
   "outputs": [],
   "source": []
  },
  {
   "cell_type": "code",
   "execution_count": 11,
   "metadata": {},
   "outputs": [
    {
     "name": "stdout",
     "output_type": "stream",
     "text": [
      "n = 1, I00 = 0.7853981635\n",
      "n = 2, I10 = 0.91629785725\n",
      "n = 2, I11 = 1.047197551\n",
      "n = 3, I20 = 0.968246302825\n",
      "n = 3, I21 = 1.0201947484\n",
      "n = 3, I22 = 1.0111938142\n"
     ]
    }
   ],
   "source": [
    "from numpy import *\n",
    "\n",
    "X = array([0.0, 0.25, 0.5, 0.75, 1.0])\n",
    "U = array([1.570796327, 1.318116072, 1.047197551, 0.722734248, 0.0])\n",
    "def h(a,b,n):\n",
    "    return (b-a)/n\n",
    "\n",
    "h = 1\n",
    "I00 = h/2 * (U[0] + U[-1])\n",
    "\n",
    "I10 = h/4 * (U[0] + 2*U[2] + U[-1])\n",
    "\n",
    "I11 = 2*I10 - I00\n",
    "\n",
    "I20 = h/8 * (U[0] + 2*sum(U[1:-1]) + U[-1])\n",
    "\n",
    "I21 = 2*I20 - I10\n",
    "\n",
    "I22 = (4*I21 - I11)/3\n",
    "\n",
    "print(\"n = 1, I00 = {}\".format(I00))\n",
    "\n",
    "print(\"n = 2, I10 = {}\".format(I10))\n",
    "\n",
    "print(\"n = 2, I11 = {}\".format(I11))\n",
    "\n",
    "print(\"n = 3, I20 = {}\".format(I20))\n",
    "\n",
    "print(\"n = 3, I21 = {}\".format(I21))\n",
    "\n",
    "print(\"n = 3, I22 = {}\".format(I22))"
   ]
  },
  {
   "attachments": {
    "image.png": {
     "image/png": "[encoded data removed]"
    }
   },
   "cell_type": "markdown",
   "metadata": {},
   "source": [
    "### 35\n",
    "![image.png](attachment:image.png)"
   ]
  },
  {
   "cell_type": "markdown",
   "metadata": {},
   "source": [
    "#### Resolution\n",
    "Pour résoudre ce problème et éviter d'obtenir une division par zéro. Utilison la méthode à pas inégaux de Gauss-Legendre.\n",
    "\n",
    "Ayant comme abscisses: $\\pm \\dfrac{\\sqrt3}{3}$ et comme poids: 1"
   ]
  },
  {
   "cell_type": "code",
   "execution_count": 38,
   "metadata": {},
   "outputs": [
    {
     "name": "stdout",
     "output_type": "stream",
     "text": [
      "=== Integral of 1/\\sqrt(x) from 0 to 1 leg(10000)=== \n",
      " Exact Val.: 2 \t Aprox Val.: 1.9999129363275177 \t Error : 8.706367248234592e-05\n"
     ]
    }
   ],
   "source": [
    "from numpy import *\n",
    "from numpy import polynomial\n",
    "\n",
    "def u(x):\n",
    "    return 1/sqrt(x)\n",
    "\n",
    "def xi(a,b,x):\n",
    "    return (a+b)/2 + ((b-a)/2)*x\n",
    "\n",
    "n = 10000\n",
    "\n",
    "leg = polynomial.legendre.leggauss(n)\n",
    "U = u(xi(0,1,leg[0]))\n",
    "\n",
    "I = dot(U,leg[1])/2\n",
    "print(\"=== Integral of 1/\\sqrt(x) from 0 to 1 leg({})=== \\n Exact Val.: 2 \\t Aprox Val.: {} \\t Error : {}\".format(n, I, 2-I))"
   ]
  }
 ],
 "metadata": {
  "kernelspec": {
   "display_name": "Python 3",
   "language": "python",
   "name": "python3"
  },
  "language_info": {
   "codemirror_mode": {
    "name": "ipython",
    "version": 3
   },
   "file_extension": ".py",
   "mimetype": "text/x-python",
   "name": "python",
   "nbconvert_exporter": "python",
   "pygments_lexer": "ipython3",
   "version": "3.7.1"
  }
 },
 "nbformat": 4,
 "nbformat_minor": 2
}
