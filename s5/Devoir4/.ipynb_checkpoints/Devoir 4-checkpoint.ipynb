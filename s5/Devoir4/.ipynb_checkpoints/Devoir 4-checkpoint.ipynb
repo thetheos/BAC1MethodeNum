{
 "cells": [
  {
   "cell_type": "code",
   "execution_count": 23,
   "metadata": {},
   "outputs": [
    {
     "name": "stdout",
     "output_type": "stream",
     "text": [
      " ======= Integral of sinus between 0 and pi/2 =  9.97460231791726e-01 \n",
      "  True error =  2.5397682e-03\n",
      "  Number of intervals = 10\n",
      "\n",
      "\n",
      "diff: 0.001970127806550148\n",
      "diff: 0.00043445150110521524\n",
      "diff: 0.00010224255977209218\n",
      "diff: 2.481307504131891e-05\n",
      "diff: 6.1126799083544014e-06\n",
      "diff: 1.5170193914393337e-06\n",
      "diff: 3.7787167117553366e-07\n",
      "diff: 9.429568081920081e-08\n",
      "diff: 2.3552431893669734e-08\n",
      "diff: 5.885424259055583e-09\n",
      "diff: 1.4710209716994882e-09\n",
      "diff: 3.6771319322781437e-10\n",
      "diff: 9.192313576988909e-11\n",
      "diff: 2.2980173319808728e-11\n",
      "diff: 5.7448490409228725e-12\n",
      "diff: 1.43651757156249e-12\n",
      "diff: 3.587130592563881e-13\n",
      "Tolerance : 1e-12\n",
      "smaller tol 0.9999999999998802\n",
      " ======= Integral of sinus between 0 and pi/2 =  9.99999999999880e-01 \n",
      "  True error =  1.1979306e-13\n",
      "  Est. error =  3.5871306e-13\n",
      "  Number of intervals = 1310720\n"
     ]
    },
    {
     "data": {
      "image/png": "[encoded data removed]",
      "text/plain": [
       "<Figure size 432x288 with 1 Axes>"
      ]
     },
     "metadata": {
      "needs_background": "light"
     },
     "output_type": "display_data"
    }
   ],
   "source": [
    "from numpy import *\n",
    "import matplotlib.pyplot as plt\n",
    "\n",
    "\n",
    "\n",
    "def trapezeEasy(f,a,b,n):\n",
    "    \n",
    "    i = linspace(a,b,n)\n",
    "    U = f(i)\n",
    "    h = i[2] - i[1]\n",
    "    I = h/2 * (U[0] + U[-1] + 2 * sum(U[1:-1]))\n",
    "    return I\n",
    "  \n",
    "def trapezeFun(f,a,b,n,nmax,tol):\n",
    "    I1 = trapezeEasy(f,a,b,n)\n",
    "    n = n*2\n",
    "    I2 = trapezeEasy(f,a,b,n)\n",
    "    for i in range(nmax):\n",
    "        if abs(I2-I1) < tol: \n",
    "            print(\"Tolerance : \" + str(tol))\n",
    "            print(\"smaller tol \" + str(I2))\n",
    "            return I2, n, abs(I2-I1)\n",
    "        n = n*2\n",
    "        I1 = I2\n",
    "        I2 = trapezeEasy(f,a,b,n)\n",
    "        \n",
    "    return I2,n,abs(I2-I1) \n",
    "\n",
    "def u(x):\n",
    "    return cos(x)\n",
    "  \n",
    "a = 0\n",
    "b = pi/2\n",
    "n = 10\n",
    " \n",
    "I = trapezeEasy(u,a,b,n)\n",
    "errorExact = abs(1.0 - I)\n",
    "print(\" ======= Integral of sinus between 0 and pi/2 = %21.14e \" % I)\n",
    "print(\"  True error = %14.7e\" % errorExact)\n",
    "print(\"  Number of intervals = %d\" % n)\n",
    "print(\"\\n\")\n",
    " \n",
    "I,n,errorEst = trapezeFun(u,a,b,n,200000,1e-12)\n",
    "errorExact = abs(1.0 - I)\n",
    "print(\" ======= Integral of sinus between 0 and pi/2 = %21.14e \" % I)\n",
    "print(\"  True error = %14.7e\" % errorExact)\n",
    "print(\"  Est. error = %14.7e\" % errorEst)\n",
    "print(\"  Number of intervals = %d\" % n)\n",
    " \n",
    " \n",
    " \n",
    "plt.figure(\"Discovering the trapezoids integration rule :-)\")\n",
    "x = [a,b]\n",
    "plt.plot(x,u(x),'.k',markersize=5) \n",
    "x = linspace(a,b,200)\n",
    "plt.fill(append(x,[0]),append(u(x),[0]),'xkcd:sky blue')\n",
    "x = linspace(-pi/2,pi,300)\n",
    "plt.plot(x,u(x),'-k')\n",
    "plt.title('Integrating sinus between 0 and pi/2')\n",
    "plt.gca().axhline(y=0,color='k',linewidth=1.0)\n",
    "plt.text(0.1,0.1,\"I = %6.4f\" % I,fontsize=12)\n",
    "plt.show()\n",
    "\n"
   ]
  }
 ],
 "metadata": {
  "kernelspec": {
   "display_name": "Python 3",
   "language": "python",
   "name": "python3"
  },
  "language_info": {
   "codemirror_mode": {
    "name": "ipython",
    "version": 3
   },
   "file_extension": ".py",
   "mimetype": "text/x-python",
   "name": "python",
   "nbconvert_exporter": "python",
   "pygments_lexer": "ipython3",
   "version": "3.7.2"
  }
 },
 "nbformat": 4,
 "nbformat_minor": 2
}
